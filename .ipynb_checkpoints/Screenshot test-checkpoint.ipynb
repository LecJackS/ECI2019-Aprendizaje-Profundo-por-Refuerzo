{
 "cells": [
  {
   "cell_type": "code",
   "execution_count": 2,
   "metadata": {
    "ExecuteTime": {
     "end_time": "2019-08-11T23:39:58.009580Z",
     "start_time": "2019-08-11T23:39:53.825653Z"
    }
   },
   "outputs": [],
   "source": [
    "import mss\n",
    "\n",
    "with mss.mss() as sct:\n",
    "    region = {'top': 0, 'left': 0, 'width': 100, 'height': 300}\n",
    "\n",
    "    for xx in range(1):\n",
    "        imgname = './screenshots/{}.png'.format(xx)\n",
    "        imgg = sct.grab(region)\n",
    "        img1 = mss.tools.to_png(imgg.rgb, imgg.size, output=imgname)\n",
    "        # pxls = find_yellow_pixels(imgname)\n",
    "        # pyautogui.click(pxls[0],pxls[1])"
   ]
  },
  {
   "cell_type": "code",
   "execution_count": null,
   "metadata": {},
   "outputs": [],
   "source": []
  }
 ],
 "metadata": {
  "kernelspec": {
   "display_name": "Python 3",
   "language": "python",
   "name": "python3"
  },
  "language_info": {
   "codemirror_mode": {
    "name": "ipython",
    "version": 3
   },
   "file_extension": ".py",
   "mimetype": "text/x-python",
   "name": "python",
   "nbconvert_exporter": "python",
   "pygments_lexer": "ipython3",
   "version": "3.7.3"
  },
  "toc": {
   "base_numbering": 1,
   "nav_menu": {},
   "number_sections": true,
   "sideBar": true,
   "skip_h1_title": false,
   "title_cell": "Table of Contents",
   "title_sidebar": "Contents",
   "toc_cell": false,
   "toc_position": {},
   "toc_section_display": true,
   "toc_window_display": false
  }
 },
 "nbformat": 4,
 "nbformat_minor": 2
}
